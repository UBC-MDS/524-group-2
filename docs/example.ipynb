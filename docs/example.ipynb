{
    "cells": [
        {
            "cell_type": "markdown",
            "metadata": {},
            "source": [
                "# Example usage\n",
                "\n",
                "To use `twitterpersona` in a project:"
            ]
        },
        {
            "cell_type": "code",
            "execution_count": null,
            "metadata": {},
            "outputs": [],
            "source": [
                "from twitterpersona import *\n",
                "\n",
                "user = user_info('consumer key', 'consumer secret', 'access_token', 'token_secret')\n",
                "\n",
                "twitter_df = load_twitter_by_user('someuser', 30, user)\n",
                "\n",
                "sentiment_df = sentiment_labler(twitter_df, 'text')\n",
                "\n",
                "cleaned_df = generalPreprocessing(sentiment_df)\n",
                "\n",
                "plt = generate_word_cloud(cleaned_df)"
            ]
        }
    ],
    "metadata": {
        "kernelspec": {
            "display_name": "Python 3",
            "language": "python",
            "name": "python3"
        },
        "language_info": {
            "codemirror_mode": {
                "name": "ipython",
                "version": 3
            },
            "file_extension": ".py",
            "mimetype": "text/x-python",
            "name": "python",
            "nbconvert_exporter": "python",
            "pygments_lexer": "ipython3",
            "version": "3.8.5"
        }
    },
    "nbformat": 4,
    "nbformat_minor": 4
}
